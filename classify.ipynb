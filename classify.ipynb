{
 "cells": [
  {
   "cell_type": "markdown",
   "metadata": {
    "id": "FBg2jArDvSv3"
   },
   "source": [
    "## Authenticate to Google Earth Engine"
   ]
  },
  {
   "cell_type": "code",
   "execution_count": 1,
   "metadata": {
    "id": "GXSXdKfivbFF"
   },
   "outputs": [],
   "source": [
    "import ee\n",
    "ee.Authenticate() #Uncomment this whenever needed, once done usually not needed for 1-2 days\n",
    "ee.Initialize(project='ee-raman')"
   ]
  },
  {
   "cell_type": "code",
   "execution_count": 8,
   "metadata": {},
   "outputs": [],
   "source": [
    "def get_feature_collection(asset_id):\n",
    "    \"\"\"Check if an asset exists, and load it as a FeatureCollection if it does.\n",
    "    Otherwise, return an empty FeatureCollection.\n",
    "    \n",
    "    Args:\n",
    "        asset_id (str): The Earth Engine asset ID.\n",
    "        \n",
    "    Returns:\n",
    "        ee.FeatureCollection: The loaded FeatureCollection or an empty one.\n",
    "    \"\"\"\n",
    "    try:\n",
    "        # Get asset information to check existence\n",
    "        ee.data.getAsset(asset_id)\n",
    "        print(f\"Asset '{asset_id}' exists. Loading FeatureCollection.\")\n",
    "        return ee.FeatureCollection(asset_id)\n",
    "    except Exception as e:\n",
    "        print(f\"Asset '{asset_id}' does not exist. Returning empty FeatureCollection.\")\n",
    "        return ee.FeatureCollection([])"
   ]
  },
  {
   "cell_type": "code",
   "execution_count": null,
   "metadata": {},
   "outputs": [
    {
     "name": "stdout",
     "output_type": "stream",
     "text": [
      "Asset 'projects/ee-raman/assets/all_forested' exists. Loading FeatureCollection.\n"
     ]
    }
   ],
   "source": [
    "filename_prefix = \"Area_forested\"\n",
    "suffix = filename_prefix.split(\"_\")[-1]\n",
    "mapping = {\n",
    "    \"farm\": 1,\n",
    "    \"plantation\": 2,\n",
    "    \"scrubland\": 3,\n",
    "    \"rest\": 0\n",
    "}\n",
    "reversed_mapping = {v: k for k, v in mapping.items()}\n",
    "reversed_ee_mapping = ee.Dictionary(reversed_mapping)\n",
    "\n",
    "def get_class_and_mapping(vectors, vector_name):\n",
    "    vector_of_class = vectors.filter(ee.Filter.eq('class', vector_name))\n",
    "    vector_of_class_with_map = vector_of_class.map(lambda f: f.set('class', mapping[vector_name]))\n",
    "    return vector_of_class, vector_of_class_with_map\n",
    "\n",
    "all = get_feature_collection(\"projects/ee-raman/assets/all_\" + suffix)\n",
    "farm, farm_with_map = get_class_and_mapping(all, \"farm\")\n",
    "scrubland, scrubland_with_map = get_class_and_mapping(all, \"scrubland\")\n",
    "plantation, plantation_with_map = get_class_and_mapping(all, \"plantation\")\n",
    "rest, rest_with_map = get_class_and_mapping(all, \"rest\")\n",
    "\n",
    "ts_data = ee.Image(\"projects/ee-raman/assets/ts_data_\" + suffix)\n",
    "\n",
    "training_features = farm_with_map.merge(scrubland_with_map).merge(plantation_with_map)\n",
    "\n",
    "training_data = ts_data.sampleRegions(\n",
    "    collection=training_features,\n",
    "    properties=['class'],\n",
    "    scale=10  # Adjust scale based on resolution\n",
    ")\n",
    "classifier = ee.Classifier.smileRandomForest(50).train(\n",
    "    features=training_data,\n",
    "    classProperty='class',\n",
    "    inputProperties=ts_data.bandNames()\n",
    ")\n",
    "\n",
    "classified = ts_data.classify(classifier)\n",
    "def assign_mode_label(feature):\n",
    "    class_values = classified.reduceRegion(\n",
    "        reducer=ee.Reducer.mode(),\n",
    "        geometry=feature.geometry(),\n",
    "        scale=30,  # Adjust scale as per resolution\n",
    "        bestEffort=True\n",
    "    )\n",
    "    return feature.set('class', class_values.get('classification'))\n",
    "\n",
    "# Apply function to test features\n",
    "rest_with_labels = rest_with_map.map(assign_mode_label).filter(ee.Filter.notNull(['class']))\n",
    "rest_with_labels = rest_with_labels.map(lambda x: x.set('class', reversed_ee_mapping.get(ee.Number(x.get(\"class\")).int())))\n",
    "all_with_labels = rest_with_labels.merge(farm).merge(scrubland)"
   ]
  },
  {
   "cell_type": "code",
   "execution_count": 50,
   "metadata": {},
   "outputs": [],
   "source": [
    "task = ee.batch.Export.table.toAsset(\n",
    "    collection=all_with_labels,\n",
    "    description='Classification',\n",
    "    assetId=\"projects/ee-raman/assets/refined_all_\" + suffix\n",
    ")\n",
    "\n",
    "# Start the task\n",
    "task.start()"
   ]
  }
 ],
 "metadata": {
  "colab": {
   "provenance": [],
   "toc_visible": true
  },
  "kernelspec": {
   "display_name": "base",
   "language": "python",
   "name": "python3"
  },
  "language_info": {
   "codemirror_mode": {
    "name": "ipython",
    "version": 3
   },
   "file_extension": ".py",
   "mimetype": "text/x-python",
   "name": "python",
   "nbconvert_exporter": "python",
   "pygments_lexer": "ipython3",
   "version": "3.12.4"
  }
 },
 "nbformat": 4,
 "nbformat_minor": 4
}

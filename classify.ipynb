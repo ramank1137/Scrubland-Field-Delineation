{
 "cells": [
  {
   "cell_type": "markdown",
   "metadata": {
    "id": "FBg2jArDvSv3"
   },
   "source": [
    "## Authenticate to Google Earth Engine"
   ]
  },
  {
   "cell_type": "code",
   "execution_count": 1,
   "metadata": {
    "id": "GXSXdKfivbFF"
   },
   "outputs": [],
   "source": [
    "import ee\n",
    "ee.Authenticate() #Uncomment this whenever needed, once done usually not needed for 1-2 days\n",
    "ee.Initialize(project='ee-raman')"
   ]
  },
  {
   "cell_type": "markdown",
   "metadata": {
    "id": "qYIr6onzgE1x"
   },
   "source": [
    "## Take user input on ROI"
   ]
  },
  {
   "cell_type": "code",
   "execution_count": 2,
   "metadata": {},
   "outputs": [
    {
     "name": "stdout",
     "output_type": "stream",
     "text": [
      "Area of the Rectangle is  23.070494296156163\n"
     ]
    }
   ],
   "source": [
    "top_left = [10.62060477, 77.87217496]  # Replace lon1 and lat1 with actual values\n",
    "bottom_right = [10.57740888, 77.91612074]  # Replace lon2 and lat2 with actual values\n",
    "\n",
    "# Create a rectangle geometry using the defined corners\n",
    "rectangle = ee.Geometry.Rectangle([top_left[1], bottom_right[0], bottom_right[1], top_left[0]])\n",
    "print(\"Area of the Rectangle is \", rectangle.area().getInfo()/1e6)\n",
    "# Create a feature collection with the rectangle as a boundary\n",
    "roi_boundary = ee.FeatureCollection([ee.Feature(rectangle)])\n",
    "filename_prefix = 'Area_testing_1'\n"
   ]
  },
  {
   "cell_type": "code",
   "execution_count": 3,
   "metadata": {},
   "outputs": [
    {
     "name": "stdout",
     "output_type": "stream",
     "text": [
      "Area of the Rectangle is  41.89448898377194\n"
     ]
    }
   ],
   "source": [
    "top_left = [20.56149133, 73.56330458]  # Replace lon1 and lat1 with actual values\n",
    "bottom_right = [20.47917109, 73.60725362]  # Replace lon2 and lat2 with actual values\n",
    "\n",
    "# Create a rectangle geometry using the defined corners\n",
    "rectangle = ee.Geometry.Rectangle([top_left[1], bottom_right[0], bottom_right[1], top_left[0]])\n",
    "print(\"Area of the Rectangle is \", rectangle.area().getInfo()/1e6)\n",
    "# Create a feature collection with the rectangle as a boundary\n",
    "roi_boundary = ee.FeatureCollection([ee.Feature(rectangle)])\n",
    "filename_prefix = 'Area_surgana'\n"
   ]
  },
  {
   "cell_type": "code",
   "execution_count": 4,
   "metadata": {},
   "outputs": [
    {
     "name": "stdout",
     "output_type": "stream",
     "text": [
      "Area of the Rectangle is  21.28347936892187\n"
     ]
    }
   ],
   "source": [
    "top_left = [19.26903337, 80.86453214]  # Replace lon1 and lat1 with actual values\n",
    "bottom_right = [19.22754399, 80.90847793]  # Replace lon2 and lat2 with actual values\n",
    "\n",
    "# Create a rectangle geometry using the defined corners\n",
    "rectangle = ee.Geometry.Rectangle([top_left[1], bottom_right[0], bottom_right[1], top_left[0]])\n",
    "print(\"Area of the Rectangle is \", rectangle.area().getInfo()/1e6)\n",
    "# Create a feature collection with the rectangle as a boundary\n",
    "roi_boundary = ee.FeatureCollection([ee.Feature(rectangle)])\n",
    "filename_prefix = 'Area_forested'\n"
   ]
  },
  {
   "cell_type": "code",
   "execution_count": 5,
   "metadata": {},
   "outputs": [
    {
     "name": "stdout",
     "output_type": "stream",
     "text": [
      "Area of the Rectangle is  15.925068062492686\n"
     ]
    }
   ],
   "source": [
    "top_left = [21.11059511, 73.20190113]  # Replace lon1 and lat1 with actual values\n",
    "bottom_right = [21.07414383, 73.23977287]  # Replace lon2 and lat2 with actual values\n",
    "\n",
    "# Create a rectangle geometry using the defined corners\n",
    "rectangle = ee.Geometry.Rectangle([top_left[1], bottom_right[0], bottom_right[1], top_left[0]])\n",
    "print(\"Area of the Rectangle is \", rectangle.area().getInfo()/1e6)\n",
    "# Create a feature collection with the rectangle as a boundary\n",
    "roi_boundary = ee.FeatureCollection([ee.Feature(rectangle)])\n",
    "filename_prefix = 'Area_plantation'\n"
   ]
  },
  {
   "cell_type": "code",
   "execution_count": 6,
   "metadata": {},
   "outputs": [],
   "source": [
    "def get_feature_collection(asset_id):\n",
    "    \"\"\"Check if an asset exists, and load it as a FeatureCollection if it does.\n",
    "    Otherwise, return an empty FeatureCollection.\n",
    "    \n",
    "    Args:\n",
    "        asset_id (str): The Earth Engine asset ID.\n",
    "        \n",
    "    Returns:\n",
    "        ee.FeatureCollection: The loaded FeatureCollection or an empty one.\n",
    "    \"\"\"\n",
    "    try:\n",
    "        # Get asset information to check existence\n",
    "        ee.data.getAsset(asset_id)\n",
    "        print(f\"Asset '{asset_id}' exists. Loading FeatureCollection.\")\n",
    "        return ee.FeatureCollection(asset_id)\n",
    "    except Exception as e:\n",
    "        print(f\"Asset '{asset_id}' does not exist. Returning empty FeatureCollection.\")\n",
    "        return ee.FeatureCollection([])"
   ]
  },
  {
   "cell_type": "code",
   "execution_count": 7,
   "metadata": {},
   "outputs": [
    {
     "name": "stdout",
     "output_type": "stream",
     "text": [
      "Asset 'projects/ee-raman/assets/farm_plantation' exists. Loading FeatureCollection.\n",
      "Asset 'projects/ee-raman/assets/scrubland_plantation' does not exist. Returning empty FeatureCollection.\n",
      "Asset 'projects/ee-raman/assets/plantation_plantation' exists. Loading FeatureCollection.\n",
      "Asset 'projects/ee-raman/assets/rest_plantation' exists. Loading FeatureCollection.\n"
     ]
    }
   ],
   "source": [
    "suffix = filename_prefix.split(\"_\")[-1]\n",
    "farm = get_feature_collection(\"projects/ee-raman/assets/farm_\" + suffix).map(lambda x: x.set(\"class\", 0))\n",
    "scrubland = get_feature_collection(\"projects/ee-raman/assets/scrubland_\" + suffix).map(lambda x: x.set(\"class\", 1))\n",
    "plantation = get_feature_collection(\"projects/ee-raman/assets/plantation_\" + suffix).map(lambda x: x.set(\"class\", 2))\n",
    "rest = get_feature_collection(\"projects/ee-raman/assets/rest_\" + suffix)\n",
    "ts_data = ee.Image(\"projects/ee-raman/assets/ts_data_\" + suffix)\n",
    "\n",
    "training_features = farm.merge(scrubland).merge(plantation)\n",
    "\n",
    "training_data = ts_data.sampleRegions(\n",
    "    collection=training_features,\n",
    "    properties=['class'],\n",
    "    scale=10  # Adjust scale based on resolution\n",
    ")\n",
    "classifier = ee.Classifier.smileRandomForest(50).train(\n",
    "    features=training_data,\n",
    "    classProperty='class',\n",
    "    inputProperties=ts_data.bandNames()\n",
    ")\n",
    "\n",
    "classified = ts_data.classify(classifier)\n",
    "def assign_mode_label(feature):\n",
    "    class_values = classified.reduceRegion(\n",
    "        reducer=ee.Reducer.mode(),\n",
    "        geometry=feature.geometry(),\n",
    "        scale=30,  # Adjust scale as per resolution\n",
    "        bestEffort=True\n",
    "    )\n",
    "    return feature.set('predicted_class', class_values.get('classification'))\n",
    "\n",
    "# Apply function to test features\n",
    "rest_with_labels = rest.map(assign_mode_label)"
   ]
  },
  {
   "cell_type": "code",
   "execution_count": 8,
   "metadata": {},
   "outputs": [],
   "source": [
    "task = ee.batch.Export.table.toAsset(\n",
    "    collection=rest_with_labels,\n",
    "    description='My_FeatureCollection',\n",
    "    assetId=\"projects/ee-raman/assets/rest_all_\" + suffix\n",
    ")\n",
    "\n",
    "# Start the task\n",
    "task.start()"
   ]
  },
  {
   "cell_type": "code",
   "execution_count": null,
   "metadata": {},
   "outputs": [],
   "source": []
  }
 ],
 "metadata": {
  "colab": {
   "provenance": [],
   "toc_visible": true
  },
  "kernelspec": {
   "display_name": "base",
   "language": "python",
   "name": "python3"
  },
  "language_info": {
   "codemirror_mode": {
    "name": "ipython",
    "version": 3
   },
   "file_extension": ".py",
   "mimetype": "text/x-python",
   "name": "python",
   "nbconvert_exporter": "python",
   "pygments_lexer": "ipython3",
   "version": "3.12.4"
  }
 },
 "nbformat": 4,
 "nbformat_minor": 4
}

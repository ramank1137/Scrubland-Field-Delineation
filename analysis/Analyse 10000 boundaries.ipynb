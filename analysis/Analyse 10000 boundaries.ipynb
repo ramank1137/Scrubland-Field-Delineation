{
 "cells": [
  {
   "cell_type": "code",
   "execution_count": 2,
   "id": "382f42bf",
   "metadata": {},
   "outputs": [
    {
     "name": "stderr",
     "output_type": "stream",
     "text": [
      "*** Earth Engine *** Share your feedback by taking our Annual Developer Satisfaction Survey: https://google.qualtrics.com/jfe/form/SV_7TDKVSyKvBdmMqW?ref=4i2o6\n"
     ]
    }
   ],
   "source": [
    "import re, ee\n",
    "ee.Authenticate() #Uncomment this whenever needed, once done usually not needed for 1-2 days\n",
    "ee.Initialize(project='raman-461708')\n",
    "PARENT = 'projects/raman-461708/assets'\n",
    "\n",
    "# ---- List all image assets once (fast follow-up lookups) ----\n",
    "def _basename(asset_name: str) -> str:\n",
    "    return asset_name.split('/')[-1]\n",
    "\n",
    "all_assets = ee.data.listAssets({'parent': PARENT}).get('assets', [])\n",
    "image_assets = [a for a in all_assets if a.get('type','').lower() == 'image']\n",
    "basenames = {_basename(a['name']) for a in image_assets}\n",
    "\n",
    "def asset_exists_base(base: str) -> bool:\n",
    "    return base in basenames\n",
    "\n",
    "def fullpath(base: str) -> str:\n",
    "    return f'{PARENT}/{base}'\n",
    "\n",
    "def list_part_bases_for_aez(aez_no: int):\n",
    "    \"\"\"Return sorted basenames for all parts like AEZ_{n}_v4_local_partK (K numeric).\"\"\"\n",
    "    rx = re.compile(rf'^AEZ_{aez_no}_v4_local_part(\\d+)$')\n",
    "    parts = []\n",
    "    for b in basenames:\n",
    "        m = rx.match(b)\n",
    "        if m:\n",
    "            parts.append((int(m.group(1)), b))\n",
    "    # Sort by numeric suffix to keep deterministic order (not required for mosaic, but nice to have).\n",
    "    parts.sort(key=lambda x: x[0])\n",
    "    return [b for _, b in parts]\n",
    "\n",
    "def choose_assets_for_aez(aez_no: int):\n",
    "    \"\"\"\n",
    "    Preference:\n",
    "      1) AEZ_{n}_v4\n",
    "      2) AEZ_{n}_v4_local_part*\n",
    "      3) AEZ_{n}_v4_local\n",
    "    Returns: list of full asset IDs (possibly multiple if parts), plus a metadata dict.\n",
    "    \"\"\"\n",
    "    base_v4 = f'AEZ_{aez_no}_v4'\n",
    "    base_local = f'AEZ_{aez_no}_v4_local'\n",
    "    part_bases = list_part_bases_for_aez(aez_no)\n",
    "\n",
    "    if asset_exists_base(base_v4):\n",
    "        return [fullpath(base_v4)], {'source':'v4','parts':[]}\n",
    "\n",
    "    if part_bases:\n",
    "        return [fullpath(b) for b in part_bases], {'source':'v4_local_parts','parts':part_bases}\n",
    "\n",
    "    if asset_exists_base(base_local):\n",
    "        return [fullpath(base_local)], {'source':'v4_local','parts':[]}\n",
    "\n",
    "    return [], {'source':'missing','parts':[]}\n",
    "\n",
    "# ---- Collect images AEZ 1..19 ----\n",
    "images = []\n",
    "report = {}   # aez_no -> {'source':..., 'parts':[...] }\n",
    "missing = []\n",
    "\n",
    "for aez_no in range(1, 20):\n",
    "    asset_ids, meta = choose_assets_for_aez(aez_no)\n",
    "    report[aez_no] = meta\n",
    "    if asset_ids:\n",
    "        # If this AEZ has multiple parts, add them all; mosaic will merge them.\n",
    "        for aid in asset_ids:\n",
    "            images.append(ee.Image(aid))\n",
    "    else:\n",
    "        missing.append(aez_no)\n",
    "\n",
    "if not images:\n",
    "    raise RuntimeError(\"No AEZ images found across v4 / v4_local_parts / v4_local\")\n",
    "\n",
    "roi = ee.FeatureCollection(\"users/mtpictd/agro_eco_regions\")\n",
    "\n",
    "# ---- Final mosaic across all gathered images ----\n",
    "# Order: AEZ 1..19; within an AEZ, parts in ascending numeric order.\n",
    "# ImageCollection.mosaic() draws later images on top of earlier ones.\n",
    "lulc_v4 = ee.ImageCollection(images).mosaic()\n",
    "lulc_v3 = ee.Image('projects/corestack-datasets/assets/datasets/LULC_v3_river_basin/pan_india_lulc_v3_2023_2024').select('predicted_label')\n",
    "farm_boundaries = ee.FeatureCollection('projects/raman-461708/assets/india_10k_fields')\n",
    "\n",
    "dw = ee.ImageCollection('GOOGLE/DYNAMICWORLD/V1').filterDate('2024-07-01', '2025-07-01').filterBounds(farm_boundaries)\n",
    "dw = dw.select('label').mode().clip(farm_boundaries)\n"
   ]
  },
  {
   "cell_type": "code",
   "execution_count": 2,
   "id": "809967c1",
   "metadata": {},
   "outputs": [
    {
     "data": {
      "application/vnd.jupyter.widget-view+json": {
       "model_id": "67d23de624084ccbb7c42c50fb8ece2f",
       "version_major": 2,
       "version_minor": 0
      },
      "text/plain": [
       "Map(center=[26.302457463638135, 73.10706082645409], controls=(WidgetControl(options=['position', 'transparent_…"
      ]
     },
     "execution_count": 2,
     "metadata": {},
     "output_type": "execute_result"
    }
   ],
   "source": [
    "import geemap\n",
    "m = geemap.Map()\n",
    "#m.centerObject(farm.limit(1))\n",
    "\n",
    "\n",
    "url = 'https://mt1.google.com/vt/lyrs=s&x={x}&y={y}&z={z}'\n",
    "m.layout.height = '1000px'\n",
    "m.add_tile_layer(url, name=\"Google Map\", attribution=\"Google\")\n",
    "#m.add_basemap(, )\n",
    "m.addLayerControl()\n",
    "#m.addLayer(fields_boundary, {}, 'Fields')\n",
    "\n",
    "palette = [\n",
    "    '303000', '000000', '000000', '000000', '000000', 'f75cff', \n",
    "    '991695', 'e6ab2c', '3bef34', '2baa25', 'e6ef34', 'a1a524', 'eea15e'\n",
    "]\n",
    "\n",
    "palette_corrected = [\n",
    "    '303000', '000000', '000000', '000000', '000000', 'f75cff', \n",
    "    '991695', 'e6ab2c', '3bef34', '2baa25', 'e6ef34', 'a1a524', 'eea15e', '29554E'\n",
    "]\n",
    "\n",
    "vis_params = {\n",
    "    'min': 0,\n",
    "    'max': 12,\n",
    "    'palette': palette\n",
    "}\n",
    "\n",
    "vis_params_corrected = {\n",
    "    'min': 0,\n",
    "    'max': 13,\n",
    "    'palette': palette_corrected\n",
    "}\n",
    "\n",
    "labels = \"\"\"0. Background\n",
    "1. Built-up\n",
    "2. Water (Kharif)\n",
    "3. Water (Kharif + Rabi)\n",
    "4. Water (Kharif + Rabi + Zaid)\n",
    "5. Croplands\n",
    "6. Tree/Forest\n",
    "7. Barren Land\n",
    "8. Single Kharif (Light blue)\n",
    "9. Single Non-Kharif\n",
    "10. Double (Dark-Blue)\n",
    "11. Triple\n",
    "12. Shrub_Scrub\n",
    "13. Plantation\"\"\"\n",
    "labels = [i.split(\". \")[-1] for i in labels.split(\"\\n\")]\n",
    "\n",
    "palette_ = ['3bef34', '991695', '0000FF']\n",
    "vis_params_ = {\n",
    "    'min': 0,\n",
    "    'max': 2,\n",
    "    'palette': palette_\n",
    "}\n",
    "m.addLayer(lulc_v4.clip(farm_boundaries).select(\"predicted_label\"), vis_params_corrected, 'lulc_v4')\n",
    "m.addLayer(lulc_v3.clip(farm_boundaries).select(\"predicted_label\"), vis_params, 'lulc_v3')\n",
    "m.addLayer(farm_boundaries, {}, 'Field Boundaries')\n",
    "m.centerObject(farm_boundaries.limit(1),17)\n",
    "m"
   ]
  },
  {
   "cell_type": "code",
   "execution_count": null,
   "id": "c880f1b0",
   "metadata": {},
   "outputs": [
    {
     "name": "stdout",
     "output_type": "stream",
     "text": [
      "42895801.75259463\n"
     ]
    }
   ],
   "source": [
    "farm_boundaries = ee.FeatureCollection('projects/raman-461708/assets/india_10k_fields')\n",
    "\n",
    "lulc = lulc_v3\n",
    "# Inputs:\n",
    "# lulc: ee.Image with band 'predicted_label' (already clipped to farm_boundaries)\n",
    "# farm_boundaries: ee.FeatureCollection\n",
    "band    = 'predicted_label'\n",
    "classes = [0,1,2,3,4,5,6,7,8, 9, 10, 11, 12, 13]\n",
    "\n",
    "mask = lulc.select(band).remap(classes, [1]*len(classes), 0)\n",
    "area_img = ee.Image.pixelArea().rename('area_m2').updateMask(mask)\n",
    "\n",
    "def get_area(feat):\n",
    "    geom = feat.geometry()\n",
    "    # Total area in m² and hectares\n",
    "    stats   = area_img.reduceRegion(\n",
    "        reducer   = ee.Reducer.sum(),\n",
    "        geometry  = geom,\n",
    "        scale     = 10,\n",
    "        maxPixels = 1e13,\n",
    "        tileScale = 4\n",
    "    )\n",
    "    area_m2 = ee.Number(stats.get('area_m2'))\n",
    "    return area_m2\n",
    "\n",
    "farm_boundaries = farm_boundaries.map(lambda f: f.set('area_m2', get_area(f)))\n",
    "area_inside = farm_boundaries.aggregate_array('area_m2').getInfo()\n",
    "print(sum(area_inside))"
   ]
  },
  {
   "cell_type": "code",
   "execution_count": 57,
   "id": "a77dfa73",
   "metadata": {},
   "outputs": [
    {
     "data": {
      "text/html": [
       "\n",
       "            <style>\n",
       "                .geemap-dark {\n",
       "                    --jp-widgets-color: white;\n",
       "                    --jp-widgets-label-color: white;\n",
       "                    --jp-ui-font-color1: white;\n",
       "                    --jp-layout-color2: #454545;\n",
       "                    background-color: #383838;\n",
       "                }\n",
       "\n",
       "                .geemap-dark .jupyter-button {\n",
       "                    --jp-layout-color3: #383838;\n",
       "                }\n",
       "\n",
       "                .geemap-colab {\n",
       "                    background-color: var(--colab-primary-surface-color, white);\n",
       "                }\n",
       "\n",
       "                .geemap-colab .jupyter-button {\n",
       "                    --jp-layout-color3: var(--colab-primary-surface-color, white);\n",
       "                }\n",
       "            </style>\n",
       "            "
      ],
      "text/plain": [
       "<IPython.core.display.HTML object>"
      ]
     },
     "metadata": {},
     "output_type": "display_data"
    },
    {
     "data": {
      "text/plain": [
       "43028355.14236441"
      ]
     },
     "execution_count": 57,
     "metadata": {},
     "output_type": "execute_result"
    }
   ],
   "source": [
    "farm_boundaries.geometry().area().getInfo()"
   ]
  },
  {
   "cell_type": "code",
   "execution_count": 3,
   "id": "9f9c6cfc",
   "metadata": {},
   "outputs": [
    {
     "data": {
      "text/plain": [
       "80.97240063512439"
      ]
     },
     "execution_count": 3,
     "metadata": {},
     "output_type": "execute_result"
    }
   ],
   "source": [
    "34736957.10651489/42899749.586338215*100"
   ]
  },
  {
   "cell_type": "code",
   "execution_count": 4,
   "id": "72f06294",
   "metadata": {},
   "outputs": [
    {
     "data": {
      "text/plain": [
       "80.9802838224769"
      ]
     },
     "execution_count": 4,
     "metadata": {},
     "output_type": "execute_result"
    }
   ],
   "source": [
    "34740338.97414855/42899749.586338215*100"
   ]
  },
  {
   "cell_type": "code",
   "execution_count": 5,
   "id": "5a974e6d",
   "metadata": {},
   "outputs": [
    {
     "data": {
      "text/plain": [
       "83.07548464251978"
      ]
     },
     "execution_count": 5,
     "metadata": {},
     "output_type": "execute_result"
    }
   ],
   "source": [
    "35639174.87927785/42899749.586338215*100"
   ]
  },
  {
   "cell_type": "code",
   "execution_count": 5,
   "id": "ec526eb0",
   "metadata": {},
   "outputs": [],
   "source": [
    "farm_boundaries = ee.FeatureCollection('projects/raman-461708/assets/india_10k_fields')\n",
    "dw = ee.ImageCollection('GOOGLE/DYNAMICWORLD/V1').filterDate('2024-07-01', '2025-07-01').filterBounds(farm_boundaries)\n",
    "lulc = dw.select('label').mode().clip(farm_boundaries)\n",
    "task = ee.batch.Export.image.toAsset(\n",
    "        image=lulc,#.select(\"predicted_label\"),\n",
    "        description='lulc_dw_10k_fields_2024_2025',\n",
    "        assetId='projects/raman-461708/assets/dw_10k_fields_2024_2025',\n",
    "        pyramidingPolicy = {'predicted_label': 'mode'},\n",
    "        scale = 10,\n",
    "        maxPixels = 1e13,\n",
    "        crs = 'EPSG:4326'\n",
    "    )\n",
    "task.start()"
   ]
  },
  {
   "cell_type": "code",
   "execution_count": 3,
   "id": "d571fd22",
   "metadata": {},
   "outputs": [
    {
     "ename": "EEException",
     "evalue": "Computation timed out.",
     "output_type": "error",
     "traceback": [
      "\u001b[31m---------------------------------------------------------------------------\u001b[39m",
      "\u001b[31mHttpError\u001b[39m                                 Traceback (most recent call last)",
      "\u001b[36mFile \u001b[39m\u001b[32m/media/disk3/raman/code/anaconda3/envs/raman/lib/python3.11/site-packages/ee/data.py:409\u001b[39m, in \u001b[36m_execute_cloud_call\u001b[39m\u001b[34m(call, num_retries)\u001b[39m\n\u001b[32m    408\u001b[39m \u001b[38;5;28;01mtry\u001b[39;00m:\n\u001b[32m--> \u001b[39m\u001b[32m409\u001b[39m   \u001b[38;5;28;01mreturn\u001b[39;00m call.execute(num_retries=num_retries)\n\u001b[32m    410\u001b[39m \u001b[38;5;28;01mexcept\u001b[39;00m googleapiclient.errors.HttpError \u001b[38;5;28;01mas\u001b[39;00m e:\n",
      "\u001b[36mFile \u001b[39m\u001b[32m/media/disk3/raman/code/anaconda3/envs/raman/lib/python3.11/site-packages/googleapiclient/_helpers.py:130\u001b[39m, in \u001b[36mpositional.<locals>.positional_decorator.<locals>.positional_wrapper\u001b[39m\u001b[34m(*args, **kwargs)\u001b[39m\n\u001b[32m    129\u001b[39m         logger.warning(message)\n\u001b[32m--> \u001b[39m\u001b[32m130\u001b[39m \u001b[38;5;28;01mreturn\u001b[39;00m wrapped(*args, **kwargs)\n",
      "\u001b[36mFile \u001b[39m\u001b[32m/media/disk3/raman/code/anaconda3/envs/raman/lib/python3.11/site-packages/googleapiclient/http.py:938\u001b[39m, in \u001b[36mHttpRequest.execute\u001b[39m\u001b[34m(self, http, num_retries)\u001b[39m\n\u001b[32m    937\u001b[39m \u001b[38;5;28;01mif\u001b[39;00m resp.status >= \u001b[32m300\u001b[39m:\n\u001b[32m--> \u001b[39m\u001b[32m938\u001b[39m     \u001b[38;5;28;01mraise\u001b[39;00m HttpError(resp, content, uri=\u001b[38;5;28mself\u001b[39m.uri)\n\u001b[32m    939\u001b[39m \u001b[38;5;28;01mreturn\u001b[39;00m \u001b[38;5;28mself\u001b[39m.postproc(resp, content)\n",
      "\u001b[31mHttpError\u001b[39m: <HttpError 400 when requesting https://earthengine.googleapis.com/v1/projects/raman-461708/value:compute?prettyPrint=false&alt=json returned \"Computation timed out.\". Details: \"Computation timed out.\">",
      "\nDuring handling of the above exception, another exception occurred:\n",
      "\u001b[31mEEException\u001b[39m                               Traceback (most recent call last)",
      "\u001b[36mCell\u001b[39m\u001b[36m \u001b[39m\u001b[32mIn[3]\u001b[39m\u001b[32m, line 28\u001b[39m\n\u001b[32m     25\u001b[39m     \u001b[38;5;28;01mreturn\u001b[39;00m area_m2\n\u001b[32m     27\u001b[39m farm_boundaries = farm_boundaries.limit(\u001b[32m1000\u001b[39m).map(\u001b[38;5;28;01mlambda\u001b[39;00m f: f.set(\u001b[33m'\u001b[39m\u001b[33marea_m2\u001b[39m\u001b[33m'\u001b[39m, get_area(f)))\n\u001b[32m---> \u001b[39m\u001b[32m28\u001b[39m area_inside = farm_boundaries.aggregate_array(\u001b[33m'\u001b[39m\u001b[33marea_m2\u001b[39m\u001b[33m'\u001b[39m).getInfo()\n\u001b[32m     29\u001b[39m \u001b[38;5;28mprint\u001b[39m(\u001b[38;5;28msum\u001b[39m(area_inside))\n",
      "\u001b[36mFile \u001b[39m\u001b[32m/media/disk3/raman/code/anaconda3/envs/raman/lib/python3.11/site-packages/ee/computedobject.py:107\u001b[39m, in \u001b[36mComputedObject.getInfo\u001b[39m\u001b[34m(self)\u001b[39m\n\u001b[32m    101\u001b[39m \u001b[38;5;28;01mdef\u001b[39;00m\u001b[38;5;250m \u001b[39m\u001b[34mgetInfo\u001b[39m(\u001b[38;5;28mself\u001b[39m) -> Any | \u001b[38;5;28;01mNone\u001b[39;00m:\n\u001b[32m    102\u001b[39m \u001b[38;5;250m  \u001b[39m\u001b[33;03m\"\"\"Fetch and return information about this object.\u001b[39;00m\n\u001b[32m    103\u001b[39m \n\u001b[32m    104\u001b[39m \u001b[33;03m  Returns:\u001b[39;00m\n\u001b[32m    105\u001b[39m \u001b[33;03m    The object can evaluate to anything.\u001b[39;00m\n\u001b[32m    106\u001b[39m \u001b[33;03m  \"\"\"\u001b[39;00m\n\u001b[32m--> \u001b[39m\u001b[32m107\u001b[39m   \u001b[38;5;28;01mreturn\u001b[39;00m data.computeValue(\u001b[38;5;28mself\u001b[39m)\n",
      "\u001b[36mFile \u001b[39m\u001b[32m/media/disk3/raman/code/anaconda3/envs/raman/lib/python3.11/site-packages/ee/data.py:1128\u001b[39m, in \u001b[36mcomputeValue\u001b[39m\u001b[34m(obj)\u001b[39m\n\u001b[32m   1125\u001b[39m body = {\u001b[33m'\u001b[39m\u001b[33mexpression\u001b[39m\u001b[33m'\u001b[39m: serializer.encode(obj, for_cloud_api=\u001b[38;5;28;01mTrue\u001b[39;00m)}\n\u001b[32m   1126\u001b[39m _maybe_populate_workload_tag(body)\n\u001b[32m-> \u001b[39m\u001b[32m1128\u001b[39m \u001b[38;5;28;01mreturn\u001b[39;00m _execute_cloud_call(\n\u001b[32m   1129\u001b[39m     _get_cloud_projects()\n\u001b[32m   1130\u001b[39m     .value()\n\u001b[32m   1131\u001b[39m     .compute(body=body, project=_get_projects_path(), prettyPrint=\u001b[38;5;28;01mFalse\u001b[39;00m)\n\u001b[32m   1132\u001b[39m )[\u001b[33m'\u001b[39m\u001b[33mresult\u001b[39m\u001b[33m'\u001b[39m]\n",
      "\u001b[36mFile \u001b[39m\u001b[32m/media/disk3/raman/code/anaconda3/envs/raman/lib/python3.11/site-packages/ee/data.py:411\u001b[39m, in \u001b[36m_execute_cloud_call\u001b[39m\u001b[34m(call, num_retries)\u001b[39m\n\u001b[32m    409\u001b[39m   \u001b[38;5;28;01mreturn\u001b[39;00m call.execute(num_retries=num_retries)\n\u001b[32m    410\u001b[39m \u001b[38;5;28;01mexcept\u001b[39;00m googleapiclient.errors.HttpError \u001b[38;5;28;01mas\u001b[39;00m e:\n\u001b[32m--> \u001b[39m\u001b[32m411\u001b[39m   \u001b[38;5;28;01mraise\u001b[39;00m _translate_cloud_exception(e)\n",
      "\u001b[31mEEException\u001b[39m: Computation timed out."
     ]
    }
   ],
   "source": [
    "farm_boundaries = ee.FeatureCollection('projects/raman-461708/assets/india_10k_fields')\n",
    "dw = ee.ImageCollection('GOOGLE/DYNAMICWORLD/V1').filterDate('2024-07-01', '2025-07-01').filterBounds(farm_boundaries)\n",
    "lulc = dw.select('label').mode().clip(farm_boundaries)\n",
    "\n",
    "# Inputs:\n",
    "# lulc: ee.Image with band 'predicted_label' (already clipped to farm_boundaries)\n",
    "# farm_boundaries: ee.FeatureCollection\n",
    "band    = 'label'\n",
    "classes = [4]\n",
    "\n",
    "mask = lulc.select(band).remap(classes, [1]*len(classes), 0)\n",
    "area_img = ee.Image.pixelArea().rename('area_m2').updateMask(mask)\n",
    "\n",
    "def get_area(feat):\n",
    "    geom = feat.geometry()\n",
    "    # Total area in m² and hectares\n",
    "    stats   = area_img.reduceRegion(\n",
    "        reducer   = ee.Reducer.sum(),\n",
    "        geometry  = geom,\n",
    "        scale     = 10,\n",
    "        maxPixels = 1e13,\n",
    "        tileScale = 4\n",
    "    )\n",
    "    area_m2 = ee.Number(stats.get('area_m2'))\n",
    "    return area_m2\n",
    "\n",
    "farm_boundaries = farm_boundaries.limit(1000).map(lambda f: f.set('area_m2', get_area(f)))\n",
    "area_inside = farm_boundaries.aggregate_array('area_m2').getInfo()\n",
    "print(sum(area_inside))"
   ]
  },
  {
   "cell_type": "code",
   "execution_count": null,
   "id": "4ef1b95f",
   "metadata": {},
   "outputs": [
    {
     "data": {
      "text/html": [
       "\n",
       "            <style>\n",
       "                .geemap-dark {\n",
       "                    --jp-widgets-color: white;\n",
       "                    --jp-widgets-label-color: white;\n",
       "                    --jp-ui-font-color1: white;\n",
       "                    --jp-layout-color2: #454545;\n",
       "                    background-color: #383838;\n",
       "                }\n",
       "\n",
       "                .geemap-dark .jupyter-button {\n",
       "                    --jp-layout-color3: #383838;\n",
       "                }\n",
       "\n",
       "                .geemap-colab {\n",
       "                    background-color: var(--colab-primary-surface-color, white);\n",
       "                }\n",
       "\n",
       "                .geemap-colab .jupyter-button {\n",
       "                    --jp-layout-color3: var(--colab-primary-surface-color, white);\n",
       "                }\n",
       "            </style>\n",
       "            "
      ],
      "text/plain": [
       "<IPython.core.display.HTML object>"
      ]
     },
     "metadata": {},
     "output_type": "display_data"
    },
    {
     "ename": "KeyboardInterrupt",
     "evalue": "",
     "output_type": "error",
     "traceback": [
      "\u001b[31m---------------------------------------------------------------------------\u001b[39m",
      "\u001b[31mKeyboardInterrupt\u001b[39m                         Traceback (most recent call last)",
      "\u001b[36mCell\u001b[39m\u001b[36m \u001b[39m\u001b[32mIn[10]\u001b[39m\u001b[32m, line 28\u001b[39m\n\u001b[32m     25\u001b[39m     \u001b[38;5;28;01mreturn\u001b[39;00m area_m2\n\u001b[32m     27\u001b[39m farm_boundaries = farm_boundaries.map(\u001b[38;5;28;01mlambda\u001b[39;00m f: f.set(\u001b[33m'\u001b[39m\u001b[33marea_m2\u001b[39m\u001b[33m'\u001b[39m, get_area(f)))\n\u001b[32m---> \u001b[39m\u001b[32m28\u001b[39m area_inside = farm_boundaries.aggregate_array(\u001b[33m'\u001b[39m\u001b[33marea_m2\u001b[39m\u001b[33m'\u001b[39m).getInfo()\n\u001b[32m     29\u001b[39m \u001b[38;5;66;03m#print(sum(area_inside))\u001b[39;00m\n\u001b[32m     31\u001b[39m task = ee.batch.Export.image.toAsset(\n\u001b[32m     32\u001b[39m     image=lulc.select(\u001b[33m'\u001b[39m\u001b[33mlabel\u001b[39m\u001b[33m'\u001b[39m),\u001b[38;5;66;03m#.select(\"predicted_label\"),\u001b[39;00m\n\u001b[32m     33\u001b[39m     description=\u001b[33m'\u001b[39m\u001b[33mlulc_dw\u001b[39m\u001b[33m'\u001b[39m,\n\u001b[32m   (...)\u001b[39m\u001b[32m     38\u001b[39m     crs = \u001b[33m'\u001b[39m\u001b[33mEPSG:4326\u001b[39m\u001b[33m'\u001b[39m\n\u001b[32m     39\u001b[39m )\n",
      "\u001b[36mFile \u001b[39m\u001b[32m/media/disk3/raman/code/anaconda3/envs/raman/lib/python3.11/site-packages/ee/computedobject.py:107\u001b[39m, in \u001b[36mComputedObject.getInfo\u001b[39m\u001b[34m(self)\u001b[39m\n\u001b[32m    101\u001b[39m \u001b[38;5;28;01mdef\u001b[39;00m\u001b[38;5;250m \u001b[39m\u001b[34mgetInfo\u001b[39m(\u001b[38;5;28mself\u001b[39m) -> Any | \u001b[38;5;28;01mNone\u001b[39;00m:\n\u001b[32m    102\u001b[39m \u001b[38;5;250m  \u001b[39m\u001b[33;03m\"\"\"Fetch and return information about this object.\u001b[39;00m\n\u001b[32m    103\u001b[39m \n\u001b[32m    104\u001b[39m \u001b[33;03m  Returns:\u001b[39;00m\n\u001b[32m    105\u001b[39m \u001b[33;03m    The object can evaluate to anything.\u001b[39;00m\n\u001b[32m    106\u001b[39m \u001b[33;03m  \"\"\"\u001b[39;00m\n\u001b[32m--> \u001b[39m\u001b[32m107\u001b[39m   \u001b[38;5;28;01mreturn\u001b[39;00m data.computeValue(\u001b[38;5;28mself\u001b[39m)\n",
      "\u001b[36mFile \u001b[39m\u001b[32m/media/disk3/raman/code/anaconda3/envs/raman/lib/python3.11/site-packages/ee/data.py:1128\u001b[39m, in \u001b[36mcomputeValue\u001b[39m\u001b[34m(obj)\u001b[39m\n\u001b[32m   1125\u001b[39m body = {\u001b[33m'\u001b[39m\u001b[33mexpression\u001b[39m\u001b[33m'\u001b[39m: serializer.encode(obj, for_cloud_api=\u001b[38;5;28;01mTrue\u001b[39;00m)}\n\u001b[32m   1126\u001b[39m _maybe_populate_workload_tag(body)\n\u001b[32m-> \u001b[39m\u001b[32m1128\u001b[39m \u001b[38;5;28;01mreturn\u001b[39;00m _execute_cloud_call(\n\u001b[32m   1129\u001b[39m     _get_cloud_projects()\n\u001b[32m   1130\u001b[39m     .value()\n\u001b[32m   1131\u001b[39m     .compute(body=body, project=_get_projects_path(), prettyPrint=\u001b[38;5;28;01mFalse\u001b[39;00m)\n\u001b[32m   1132\u001b[39m )[\u001b[33m'\u001b[39m\u001b[33mresult\u001b[39m\u001b[33m'\u001b[39m]\n",
      "\u001b[36mFile \u001b[39m\u001b[32m/media/disk3/raman/code/anaconda3/envs/raman/lib/python3.11/site-packages/ee/data.py:409\u001b[39m, in \u001b[36m_execute_cloud_call\u001b[39m\u001b[34m(call, num_retries)\u001b[39m\n\u001b[32m    407\u001b[39m num_retries = _max_retries \u001b[38;5;28;01mif\u001b[39;00m num_retries \u001b[38;5;129;01mis\u001b[39;00m \u001b[38;5;28;01mNone\u001b[39;00m \u001b[38;5;28;01melse\u001b[39;00m num_retries\n\u001b[32m    408\u001b[39m \u001b[38;5;28;01mtry\u001b[39;00m:\n\u001b[32m--> \u001b[39m\u001b[32m409\u001b[39m   \u001b[38;5;28;01mreturn\u001b[39;00m call.execute(num_retries=num_retries)\n\u001b[32m    410\u001b[39m \u001b[38;5;28;01mexcept\u001b[39;00m googleapiclient.errors.HttpError \u001b[38;5;28;01mas\u001b[39;00m e:\n\u001b[32m    411\u001b[39m   \u001b[38;5;28;01mraise\u001b[39;00m _translate_cloud_exception(e)\n",
      "\u001b[36mFile \u001b[39m\u001b[32m/media/disk3/raman/code/anaconda3/envs/raman/lib/python3.11/site-packages/googleapiclient/_helpers.py:130\u001b[39m, in \u001b[36mpositional.<locals>.positional_decorator.<locals>.positional_wrapper\u001b[39m\u001b[34m(*args, **kwargs)\u001b[39m\n\u001b[32m    128\u001b[39m     \u001b[38;5;28;01melif\u001b[39;00m positional_parameters_enforcement == POSITIONAL_WARNING:\n\u001b[32m    129\u001b[39m         logger.warning(message)\n\u001b[32m--> \u001b[39m\u001b[32m130\u001b[39m \u001b[38;5;28;01mreturn\u001b[39;00m wrapped(*args, **kwargs)\n",
      "\u001b[36mFile \u001b[39m\u001b[32m/media/disk3/raman/code/anaconda3/envs/raman/lib/python3.11/site-packages/googleapiclient/http.py:923\u001b[39m, in \u001b[36mHttpRequest.execute\u001b[39m\u001b[34m(self, http, num_retries)\u001b[39m\n\u001b[32m    920\u001b[39m     \u001b[38;5;28mself\u001b[39m.headers[\u001b[33m\"\u001b[39m\u001b[33mcontent-length\u001b[39m\u001b[33m\"\u001b[39m] = \u001b[38;5;28mstr\u001b[39m(\u001b[38;5;28mlen\u001b[39m(\u001b[38;5;28mself\u001b[39m.body))\n\u001b[32m    922\u001b[39m \u001b[38;5;66;03m# Handle retries for server-side errors.\u001b[39;00m\n\u001b[32m--> \u001b[39m\u001b[32m923\u001b[39m resp, content = _retry_request(\n\u001b[32m    924\u001b[39m     http,\n\u001b[32m    925\u001b[39m     num_retries,\n\u001b[32m    926\u001b[39m     \u001b[33m\"\u001b[39m\u001b[33mrequest\u001b[39m\u001b[33m\"\u001b[39m,\n\u001b[32m    927\u001b[39m     \u001b[38;5;28mself\u001b[39m._sleep,\n\u001b[32m    928\u001b[39m     \u001b[38;5;28mself\u001b[39m._rand,\n\u001b[32m    929\u001b[39m     \u001b[38;5;28mstr\u001b[39m(\u001b[38;5;28mself\u001b[39m.uri),\n\u001b[32m    930\u001b[39m     method=\u001b[38;5;28mstr\u001b[39m(\u001b[38;5;28mself\u001b[39m.method),\n\u001b[32m    931\u001b[39m     body=\u001b[38;5;28mself\u001b[39m.body,\n\u001b[32m    932\u001b[39m     headers=\u001b[38;5;28mself\u001b[39m.headers,\n\u001b[32m    933\u001b[39m )\n\u001b[32m    935\u001b[39m \u001b[38;5;28;01mfor\u001b[39;00m callback \u001b[38;5;129;01min\u001b[39;00m \u001b[38;5;28mself\u001b[39m.response_callbacks:\n\u001b[32m    936\u001b[39m     callback(resp)\n",
      "\u001b[36mFile \u001b[39m\u001b[32m/media/disk3/raman/code/anaconda3/envs/raman/lib/python3.11/site-packages/googleapiclient/http.py:191\u001b[39m, in \u001b[36m_retry_request\u001b[39m\u001b[34m(http, num_retries, req_type, sleep, rand, uri, method, *args, **kwargs)\u001b[39m\n\u001b[32m    189\u001b[39m \u001b[38;5;28;01mtry\u001b[39;00m:\n\u001b[32m    190\u001b[39m     exception = \u001b[38;5;28;01mNone\u001b[39;00m\n\u001b[32m--> \u001b[39m\u001b[32m191\u001b[39m     resp, content = http.request(uri, method, *args, **kwargs)\n\u001b[32m    192\u001b[39m \u001b[38;5;66;03m# Retry on SSL errors and socket timeout errors.\u001b[39;00m\n\u001b[32m    193\u001b[39m \u001b[38;5;28;01mexcept\u001b[39;00m _ssl_SSLError \u001b[38;5;28;01mas\u001b[39;00m ssl_error:\n",
      "\u001b[36mFile \u001b[39m\u001b[32m/media/disk3/raman/code/anaconda3/envs/raman/lib/python3.11/site-packages/google_auth_httplib2.py:218\u001b[39m, in \u001b[36mAuthorizedHttp.request\u001b[39m\u001b[34m(self, uri, method, body, headers, redirections, connection_type, **kwargs)\u001b[39m\n\u001b[32m    215\u001b[39m     body_stream_position = body.tell()\n\u001b[32m    217\u001b[39m \u001b[38;5;66;03m# Make the request.\u001b[39;00m\n\u001b[32m--> \u001b[39m\u001b[32m218\u001b[39m response, content = \u001b[38;5;28mself\u001b[39m.http.request(\n\u001b[32m    219\u001b[39m     uri,\n\u001b[32m    220\u001b[39m     method,\n\u001b[32m    221\u001b[39m     body=body,\n\u001b[32m    222\u001b[39m     headers=request_headers,\n\u001b[32m    223\u001b[39m     redirections=redirections,\n\u001b[32m    224\u001b[39m     connection_type=connection_type,\n\u001b[32m    225\u001b[39m     **kwargs\n\u001b[32m    226\u001b[39m )\n\u001b[32m    228\u001b[39m \u001b[38;5;66;03m# If the response indicated that the credentials needed to be\u001b[39;00m\n\u001b[32m    229\u001b[39m \u001b[38;5;66;03m# refreshed, then refresh the credentials and re-attempt the\u001b[39;00m\n\u001b[32m    230\u001b[39m \u001b[38;5;66;03m# request.\u001b[39;00m\n\u001b[32m    231\u001b[39m \u001b[38;5;66;03m# A stored token may expire between the time it is retrieved and\u001b[39;00m\n\u001b[32m    232\u001b[39m \u001b[38;5;66;03m# the time the request is made, so we may need to try twice.\u001b[39;00m\n\u001b[32m    233\u001b[39m \u001b[38;5;28;01mif\u001b[39;00m (\n\u001b[32m    234\u001b[39m     response.status \u001b[38;5;129;01min\u001b[39;00m \u001b[38;5;28mself\u001b[39m._refresh_status_codes\n\u001b[32m    235\u001b[39m     \u001b[38;5;129;01mand\u001b[39;00m _credential_refresh_attempt < \u001b[38;5;28mself\u001b[39m._max_refresh_attempts\n\u001b[32m    236\u001b[39m ):\n",
      "\u001b[36mFile \u001b[39m\u001b[32m/media/disk3/raman/code/anaconda3/envs/raman/lib/python3.11/site-packages/ee/_cloud_api_utils.py:71\u001b[39m, in \u001b[36m_Http.request\u001b[39m\u001b[34m(***failed resolving arguments***)\u001b[39m\n\u001b[32m     64\u001b[39m \u001b[38;5;28;01mdel\u001b[39;00m redirections  \u001b[38;5;66;03m# Ignored\u001b[39;00m\n\u001b[32m     66\u001b[39m \u001b[38;5;28;01mtry\u001b[39;00m:\n\u001b[32m     67\u001b[39m   \u001b[38;5;66;03m# googleapiclient is expecting an httplib2 object, and doesn't include\u001b[39;00m\n\u001b[32m     68\u001b[39m   \u001b[38;5;66;03m# requests error in the list of transient errors. Therefore, transient\u001b[39;00m\n\u001b[32m     69\u001b[39m   \u001b[38;5;66;03m# requests errors should be converted to kinds that googleapiclient\u001b[39;00m\n\u001b[32m     70\u001b[39m   \u001b[38;5;66;03m# consider transient.\u001b[39;00m\n\u001b[32m---> \u001b[39m\u001b[32m71\u001b[39m   response = \u001b[38;5;28mself\u001b[39m._session.request(\n\u001b[32m     72\u001b[39m       method, uri, data=body, headers=headers, timeout=\u001b[38;5;28mself\u001b[39m._timeout\n\u001b[32m     73\u001b[39m   )\n\u001b[32m     74\u001b[39m \u001b[38;5;28;01mexcept\u001b[39;00m requests.exceptions.ConnectionError \u001b[38;5;28;01mas\u001b[39;00m connection_error:\n\u001b[32m     75\u001b[39m   \u001b[38;5;28;01mraise\u001b[39;00m \u001b[38;5;167;01mConnectionError\u001b[39;00m(connection_error) \u001b[38;5;28;01mfrom\u001b[39;00m\u001b[38;5;250m \u001b[39m\u001b[34;01mconnection_error\u001b[39;00m\n",
      "\u001b[36mFile \u001b[39m\u001b[32m/media/disk3/raman/code/anaconda3/envs/raman/lib/python3.11/site-packages/requests/sessions.py:529\u001b[39m, in \u001b[36mSession.request\u001b[39m\u001b[34m(self, method, url, params, data, headers, cookies, files, auth, timeout, allow_redirects, proxies, hooks, stream, verify, cert, json)\u001b[39m\n\u001b[32m    524\u001b[39m send_kwargs = {\n\u001b[32m    525\u001b[39m     \u001b[33m'\u001b[39m\u001b[33mtimeout\u001b[39m\u001b[33m'\u001b[39m: timeout,\n\u001b[32m    526\u001b[39m     \u001b[33m'\u001b[39m\u001b[33mallow_redirects\u001b[39m\u001b[33m'\u001b[39m: allow_redirects,\n\u001b[32m    527\u001b[39m }\n\u001b[32m    528\u001b[39m send_kwargs.update(settings)\n\u001b[32m--> \u001b[39m\u001b[32m529\u001b[39m resp = \u001b[38;5;28mself\u001b[39m.send(prep, **send_kwargs)\n\u001b[32m    531\u001b[39m \u001b[38;5;28;01mreturn\u001b[39;00m resp\n",
      "\u001b[36mFile \u001b[39m\u001b[32m/media/disk3/raman/code/anaconda3/envs/raman/lib/python3.11/site-packages/requests/sessions.py:645\u001b[39m, in \u001b[36mSession.send\u001b[39m\u001b[34m(self, request, **kwargs)\u001b[39m\n\u001b[32m    642\u001b[39m start = preferred_clock()\n\u001b[32m    644\u001b[39m \u001b[38;5;66;03m# Send the request\u001b[39;00m\n\u001b[32m--> \u001b[39m\u001b[32m645\u001b[39m r = adapter.send(request, **kwargs)\n\u001b[32m    647\u001b[39m \u001b[38;5;66;03m# Total elapsed time of the request (approximately)\u001b[39;00m\n\u001b[32m    648\u001b[39m elapsed = preferred_clock() - start\n",
      "\u001b[36mFile \u001b[39m\u001b[32m/media/disk3/raman/code/anaconda3/envs/raman/lib/python3.11/site-packages/requests/adapters.py:440\u001b[39m, in \u001b[36mHTTPAdapter.send\u001b[39m\u001b[34m(self, request, stream, timeout, verify, cert, proxies)\u001b[39m\n\u001b[32m    438\u001b[39m \u001b[38;5;28;01mtry\u001b[39;00m:\n\u001b[32m    439\u001b[39m     \u001b[38;5;28;01mif\u001b[39;00m \u001b[38;5;129;01mnot\u001b[39;00m chunked:\n\u001b[32m--> \u001b[39m\u001b[32m440\u001b[39m         resp = conn.urlopen(\n\u001b[32m    441\u001b[39m             method=request.method,\n\u001b[32m    442\u001b[39m             url=url,\n\u001b[32m    443\u001b[39m             body=request.body,\n\u001b[32m    444\u001b[39m             headers=request.headers,\n\u001b[32m    445\u001b[39m             redirect=\u001b[38;5;28;01mFalse\u001b[39;00m,\n\u001b[32m    446\u001b[39m             assert_same_host=\u001b[38;5;28;01mFalse\u001b[39;00m,\n\u001b[32m    447\u001b[39m             preload_content=\u001b[38;5;28;01mFalse\u001b[39;00m,\n\u001b[32m    448\u001b[39m             decode_content=\u001b[38;5;28;01mFalse\u001b[39;00m,\n\u001b[32m    449\u001b[39m             retries=\u001b[38;5;28mself\u001b[39m.max_retries,\n\u001b[32m    450\u001b[39m             timeout=timeout\n\u001b[32m    451\u001b[39m         )\n\u001b[32m    453\u001b[39m     \u001b[38;5;66;03m# Send the request.\u001b[39;00m\n\u001b[32m    454\u001b[39m     \u001b[38;5;28;01melse\u001b[39;00m:\n\u001b[32m    455\u001b[39m         \u001b[38;5;28;01mif\u001b[39;00m \u001b[38;5;28mhasattr\u001b[39m(conn, \u001b[33m'\u001b[39m\u001b[33mproxy_pool\u001b[39m\u001b[33m'\u001b[39m):\n",
      "\u001b[36mFile \u001b[39m\u001b[32m/media/disk3/raman/code/anaconda3/envs/raman/lib/python3.11/site-packages/urllib3/connectionpool.py:716\u001b[39m, in \u001b[36mHTTPConnectionPool.urlopen\u001b[39m\u001b[34m(self, method, url, body, headers, retries, redirect, assert_same_host, timeout, pool_timeout, release_conn, chunked, body_pos, **response_kw)\u001b[39m\n\u001b[32m    713\u001b[39m     \u001b[38;5;28mself\u001b[39m._prepare_proxy(conn)\n\u001b[32m    715\u001b[39m \u001b[38;5;66;03m# Make the request on the httplib connection object.\u001b[39;00m\n\u001b[32m--> \u001b[39m\u001b[32m716\u001b[39m httplib_response = \u001b[38;5;28mself\u001b[39m._make_request(\n\u001b[32m    717\u001b[39m     conn,\n\u001b[32m    718\u001b[39m     method,\n\u001b[32m    719\u001b[39m     url,\n\u001b[32m    720\u001b[39m     timeout=timeout_obj,\n\u001b[32m    721\u001b[39m     body=body,\n\u001b[32m    722\u001b[39m     headers=headers,\n\u001b[32m    723\u001b[39m     chunked=chunked,\n\u001b[32m    724\u001b[39m )\n\u001b[32m    726\u001b[39m \u001b[38;5;66;03m# If we're going to release the connection in ``finally:``, then\u001b[39;00m\n\u001b[32m    727\u001b[39m \u001b[38;5;66;03m# the response doesn't need to know about the connection. Otherwise\u001b[39;00m\n\u001b[32m    728\u001b[39m \u001b[38;5;66;03m# it will also try to release it and we'll have a double-release\u001b[39;00m\n\u001b[32m    729\u001b[39m \u001b[38;5;66;03m# mess.\u001b[39;00m\n\u001b[32m    730\u001b[39m response_conn = conn \u001b[38;5;28;01mif\u001b[39;00m \u001b[38;5;129;01mnot\u001b[39;00m release_conn \u001b[38;5;28;01melse\u001b[39;00m \u001b[38;5;28;01mNone\u001b[39;00m\n",
      "\u001b[36mFile \u001b[39m\u001b[32m/media/disk3/raman/code/anaconda3/envs/raman/lib/python3.11/site-packages/urllib3/connectionpool.py:468\u001b[39m, in \u001b[36mHTTPConnectionPool._make_request\u001b[39m\u001b[34m(self, conn, method, url, timeout, chunked, **httplib_request_kw)\u001b[39m\n\u001b[32m    463\u001b[39m             httplib_response = conn.getresponse()\n\u001b[32m    464\u001b[39m         \u001b[38;5;28;01mexcept\u001b[39;00m \u001b[38;5;167;01mBaseException\u001b[39;00m \u001b[38;5;28;01mas\u001b[39;00m e:\n\u001b[32m    465\u001b[39m             \u001b[38;5;66;03m# Remove the TypeError from the exception chain in\u001b[39;00m\n\u001b[32m    466\u001b[39m             \u001b[38;5;66;03m# Python 3 (including for exceptions like SystemExit).\u001b[39;00m\n\u001b[32m    467\u001b[39m             \u001b[38;5;66;03m# Otherwise it looks like a bug in the code.\u001b[39;00m\n\u001b[32m--> \u001b[39m\u001b[32m468\u001b[39m             six.raise_from(e, \u001b[38;5;28;01mNone\u001b[39;00m)\n\u001b[32m    469\u001b[39m \u001b[38;5;28;01mexcept\u001b[39;00m (SocketTimeout, BaseSSLError, SocketError) \u001b[38;5;28;01mas\u001b[39;00m e:\n\u001b[32m    470\u001b[39m     \u001b[38;5;28mself\u001b[39m._raise_timeout(err=e, url=url, timeout_value=read_timeout)\n",
      "\u001b[36mFile \u001b[39m\u001b[32m<string>:3\u001b[39m, in \u001b[36mraise_from\u001b[39m\u001b[34m(value, from_value)\u001b[39m\n",
      "\u001b[36mFile \u001b[39m\u001b[32m/media/disk3/raman/code/anaconda3/envs/raman/lib/python3.11/site-packages/urllib3/connectionpool.py:463\u001b[39m, in \u001b[36mHTTPConnectionPool._make_request\u001b[39m\u001b[34m(self, conn, method, url, timeout, chunked, **httplib_request_kw)\u001b[39m\n\u001b[32m    460\u001b[39m \u001b[38;5;28;01mexcept\u001b[39;00m \u001b[38;5;167;01mTypeError\u001b[39;00m:\n\u001b[32m    461\u001b[39m     \u001b[38;5;66;03m# Python 3\u001b[39;00m\n\u001b[32m    462\u001b[39m     \u001b[38;5;28;01mtry\u001b[39;00m:\n\u001b[32m--> \u001b[39m\u001b[32m463\u001b[39m         httplib_response = conn.getresponse()\n\u001b[32m    464\u001b[39m     \u001b[38;5;28;01mexcept\u001b[39;00m \u001b[38;5;167;01mBaseException\u001b[39;00m \u001b[38;5;28;01mas\u001b[39;00m e:\n\u001b[32m    465\u001b[39m         \u001b[38;5;66;03m# Remove the TypeError from the exception chain in\u001b[39;00m\n\u001b[32m    466\u001b[39m         \u001b[38;5;66;03m# Python 3 (including for exceptions like SystemExit).\u001b[39;00m\n\u001b[32m    467\u001b[39m         \u001b[38;5;66;03m# Otherwise it looks like a bug in the code.\u001b[39;00m\n\u001b[32m    468\u001b[39m         six.raise_from(e, \u001b[38;5;28;01mNone\u001b[39;00m)\n",
      "\u001b[36mFile \u001b[39m\u001b[32m/media/disk3/raman/code/anaconda3/envs/raman/lib/python3.11/http/client.py:1395\u001b[39m, in \u001b[36mHTTPConnection.getresponse\u001b[39m\u001b[34m(self)\u001b[39m\n\u001b[32m   1393\u001b[39m \u001b[38;5;28;01mtry\u001b[39;00m:\n\u001b[32m   1394\u001b[39m     \u001b[38;5;28;01mtry\u001b[39;00m:\n\u001b[32m-> \u001b[39m\u001b[32m1395\u001b[39m         response.begin()\n\u001b[32m   1396\u001b[39m     \u001b[38;5;28;01mexcept\u001b[39;00m \u001b[38;5;167;01mConnectionError\u001b[39;00m:\n\u001b[32m   1397\u001b[39m         \u001b[38;5;28mself\u001b[39m.close()\n",
      "\u001b[36mFile \u001b[39m\u001b[32m/media/disk3/raman/code/anaconda3/envs/raman/lib/python3.11/http/client.py:325\u001b[39m, in \u001b[36mHTTPResponse.begin\u001b[39m\u001b[34m(self)\u001b[39m\n\u001b[32m    323\u001b[39m \u001b[38;5;66;03m# read until we get a non-100 response\u001b[39;00m\n\u001b[32m    324\u001b[39m \u001b[38;5;28;01mwhile\u001b[39;00m \u001b[38;5;28;01mTrue\u001b[39;00m:\n\u001b[32m--> \u001b[39m\u001b[32m325\u001b[39m     version, status, reason = \u001b[38;5;28mself\u001b[39m._read_status()\n\u001b[32m    326\u001b[39m     \u001b[38;5;28;01mif\u001b[39;00m status != CONTINUE:\n\u001b[32m    327\u001b[39m         \u001b[38;5;28;01mbreak\u001b[39;00m\n",
      "\u001b[36mFile \u001b[39m\u001b[32m/media/disk3/raman/code/anaconda3/envs/raman/lib/python3.11/http/client.py:286\u001b[39m, in \u001b[36mHTTPResponse._read_status\u001b[39m\u001b[34m(self)\u001b[39m\n\u001b[32m    285\u001b[39m \u001b[38;5;28;01mdef\u001b[39;00m\u001b[38;5;250m \u001b[39m\u001b[34m_read_status\u001b[39m(\u001b[38;5;28mself\u001b[39m):\n\u001b[32m--> \u001b[39m\u001b[32m286\u001b[39m     line = \u001b[38;5;28mstr\u001b[39m(\u001b[38;5;28mself\u001b[39m.fp.readline(_MAXLINE + \u001b[32m1\u001b[39m), \u001b[33m\"\u001b[39m\u001b[33miso-8859-1\u001b[39m\u001b[33m\"\u001b[39m)\n\u001b[32m    287\u001b[39m     \u001b[38;5;28;01mif\u001b[39;00m \u001b[38;5;28mlen\u001b[39m(line) > _MAXLINE:\n\u001b[32m    288\u001b[39m         \u001b[38;5;28;01mraise\u001b[39;00m LineTooLong(\u001b[33m\"\u001b[39m\u001b[33mstatus line\u001b[39m\u001b[33m\"\u001b[39m)\n",
      "\u001b[36mFile \u001b[39m\u001b[32m/media/disk3/raman/code/anaconda3/envs/raman/lib/python3.11/socket.py:718\u001b[39m, in \u001b[36mSocketIO.readinto\u001b[39m\u001b[34m(self, b)\u001b[39m\n\u001b[32m    716\u001b[39m \u001b[38;5;28;01mwhile\u001b[39;00m \u001b[38;5;28;01mTrue\u001b[39;00m:\n\u001b[32m    717\u001b[39m     \u001b[38;5;28;01mtry\u001b[39;00m:\n\u001b[32m--> \u001b[39m\u001b[32m718\u001b[39m         \u001b[38;5;28;01mreturn\u001b[39;00m \u001b[38;5;28mself\u001b[39m._sock.recv_into(b)\n\u001b[32m    719\u001b[39m     \u001b[38;5;28;01mexcept\u001b[39;00m timeout:\n\u001b[32m    720\u001b[39m         \u001b[38;5;28mself\u001b[39m._timeout_occurred = \u001b[38;5;28;01mTrue\u001b[39;00m\n",
      "\u001b[36mFile \u001b[39m\u001b[32m/media/disk3/raman/code/anaconda3/envs/raman/lib/python3.11/ssl.py:1314\u001b[39m, in \u001b[36mSSLSocket.recv_into\u001b[39m\u001b[34m(self, buffer, nbytes, flags)\u001b[39m\n\u001b[32m   1310\u001b[39m     \u001b[38;5;28;01mif\u001b[39;00m flags != \u001b[32m0\u001b[39m:\n\u001b[32m   1311\u001b[39m         \u001b[38;5;28;01mraise\u001b[39;00m \u001b[38;5;167;01mValueError\u001b[39;00m(\n\u001b[32m   1312\u001b[39m           \u001b[33m\"\u001b[39m\u001b[33mnon-zero flags not allowed in calls to recv_into() on \u001b[39m\u001b[38;5;132;01m%s\u001b[39;00m\u001b[33m\"\u001b[39m %\n\u001b[32m   1313\u001b[39m           \u001b[38;5;28mself\u001b[39m.\u001b[34m__class__\u001b[39m)\n\u001b[32m-> \u001b[39m\u001b[32m1314\u001b[39m     \u001b[38;5;28;01mreturn\u001b[39;00m \u001b[38;5;28mself\u001b[39m.read(nbytes, buffer)\n\u001b[32m   1315\u001b[39m \u001b[38;5;28;01melse\u001b[39;00m:\n\u001b[32m   1316\u001b[39m     \u001b[38;5;28;01mreturn\u001b[39;00m \u001b[38;5;28msuper\u001b[39m().recv_into(buffer, nbytes, flags)\n",
      "\u001b[36mFile \u001b[39m\u001b[32m/media/disk3/raman/code/anaconda3/envs/raman/lib/python3.11/ssl.py:1166\u001b[39m, in \u001b[36mSSLSocket.read\u001b[39m\u001b[34m(self, len, buffer)\u001b[39m\n\u001b[32m   1164\u001b[39m \u001b[38;5;28;01mtry\u001b[39;00m:\n\u001b[32m   1165\u001b[39m     \u001b[38;5;28;01mif\u001b[39;00m buffer \u001b[38;5;129;01mis\u001b[39;00m \u001b[38;5;129;01mnot\u001b[39;00m \u001b[38;5;28;01mNone\u001b[39;00m:\n\u001b[32m-> \u001b[39m\u001b[32m1166\u001b[39m         \u001b[38;5;28;01mreturn\u001b[39;00m \u001b[38;5;28mself\u001b[39m._sslobj.read(\u001b[38;5;28mlen\u001b[39m, buffer)\n\u001b[32m   1167\u001b[39m     \u001b[38;5;28;01melse\u001b[39;00m:\n\u001b[32m   1168\u001b[39m         \u001b[38;5;28;01mreturn\u001b[39;00m \u001b[38;5;28mself\u001b[39m._sslobj.read(\u001b[38;5;28mlen\u001b[39m)\n",
      "\u001b[31mKeyboardInterrupt\u001b[39m: "
     ]
    }
   ],
   "source": [
    "farm_boundaries = ee.FeatureCollection('projects/raman-461708/assets/india_10k_fields')\n",
    "dw = ee.ImageCollection('GOOGLE/DYNAMICWORLD/V1').filterDate('2024-07-01', '2025-07-01').filterBounds(farm_boundaries)\n",
    "lulc = dw.select('label').mode().clip(farm_boundaries)\n",
    "\n",
    "# Inputs:\n",
    "# lulc: ee.Image with band 'predicted_label' (already clipped to farm_boundaries)\n",
    "# farm_boundaries: ee.FeatureCollection\n",
    "band    = 'label'\n",
    "classes = [4]\n",
    "\n",
    "mask = lulc.select(band).remap(classes, [1]*len(classes), 0)\n",
    "area_img = ee.Image.pixelArea().rename('area_m2').updateMask(mask)\n",
    "\n",
    "def get_area(feat):\n",
    "    geom = feat.geometry()\n",
    "    # Total area in m² and hectares\n",
    "    stats   = area_img.reduceRegion(\n",
    "        reducer   = ee.Reducer.sum(),\n",
    "        geometry  = geom,\n",
    "        scale     = 10,\n",
    "        maxPixels = 1e13,\n",
    "        tileScale = 4\n",
    "    )\n",
    "    area_m2 = ee.Number(stats.get('area_m2'))\n",
    "    return area_m2\n",
    "\n",
    "farm_boundaries = farm_boundaries.map(lambda f: f.set('area_m2', get_area(f)))\n",
    "area_inside = farm_boundaries.aggregate_array('area_m2').getInfo()\n",
    "#print(sum(area_inside))\n",
    "\n",
    "task = ee.batch.Export.image.toAsset(\n",
    "    image=lulc.select('label'),#.select(\"predicted_label\"),\n",
    "    description='lulc_dw',\n",
    "    assetId='projects/ee-raman/assets/dw_10000_fields_2024',\n",
    "    pyramidingPolicy = {'predicted_label': 'mode'},\n",
    "    scale = 10,\n",
    "    maxPixels = 1e13,\n",
    "    crs = 'EPSG:4326'\n",
    ")\n",
    "task.start()"
   ]
  },
  {
   "cell_type": "code",
   "execution_count": 2,
   "id": "84776245",
   "metadata": {},
   "outputs": [],
   "source": [
    "farm_boundaries = ee.FeatureCollection('projects/raman-461708/assets/india_10k_fields')\n",
    "dw = ee.ImageCollection('GOOGLE/DYNAMICWORLD/V1').filterDate('2024-07-01', '2025-07-01').filterBounds(farm_boundaries)\n",
    "lulc = dw.select('label').mode().clip(farm_boundaries)\n",
    "task = ee.batch.Export.image.toAsset(\n",
    "    image=lulc.select('label'),#.select(\"predicted_label\"),\n",
    "    description='lulc_dw',\n",
    "    assetId='projects/raman-461708/assets/dw_10000_fields_2024',\n",
    "    pyramidingPolicy = {'predicted_label': 'mode'},\n",
    "    scale = 10,\n",
    "    maxPixels = 1e13,\n",
    "    crs = 'EPSG:4326'\n",
    ")\n",
    "task.start()"
   ]
  },
  {
   "cell_type": "code",
   "execution_count": 6,
   "id": "f686540a",
   "metadata": {},
   "outputs": [],
   "source": [
    "roi = ee.FeatureCollection(\"users/mtpictd/agro_eco_regions\")\n",
    "dw = ee.ImageCollection('GOOGLE/DYNAMICWORLD/V1').filterDate('2024-07-01', '2025-07-01').filterBounds(roi)\n",
    "lulc = dw.select('label').mode().clip(roi)\n",
    "task = ee.batch.Export.image.toAsset(\n",
    "    image=lulc.select('label'),#.select(\"predicted_label\"),\n",
    "    description='lulc_dw',\n",
    "    assetId='projects/raman-461708/assets/dw_10000_fields_2024_india',\n",
    "    pyramidingPolicy = {'predicted_label': 'mode'},\n",
    "    scale = 10,\n",
    "    maxPixels = 1e13,\n",
    "    crs = 'EPSG:4326'\n",
    ")\n",
    "task.start()"
   ]
  },
  {
   "cell_type": "code",
   "execution_count": 5,
   "id": "cdd71a06",
   "metadata": {},
   "outputs": [],
   "source": [
    "roi = ee.FeatureCollection(\"users/mtpictd/agro_eco_regions\")\n",
    "dw = ee.ImageCollection('GOOGLE/DYNAMICWORLD/V1').filterDate('2024-07-01', '2025-07-01')\n",
    "for i in range(20):\n",
    "    aez_no = i\n",
    "    roi_aez = roi.filter(ee.Filter.eq(\"ae_regcode\", aez_no)) \n",
    "    lulc = dw.filterBounds(roi_aez).select('label').mode().clip(roi_aez)\n",
    "    task = ee.batch.Export.image.toAsset(\n",
    "        image=lulc.select('label'),#.select(\"predicted_label\"),\n",
    "        description='lulc_dw_' + str(aez_no),\n",
    "        assetId='projects/raman-461708/assets/dw_10000_fields_2024_' + str(aez_no),\n",
    "        pyramidingPolicy = {'predicted_label': 'mode'},\n",
    "        scale = 10,\n",
    "        maxPixels = 1e13,\n",
    "        crs = 'EPSG:4326'\n",
    "    )\n",
    "    task.start()"
   ]
  },
  {
   "cell_type": "code",
   "execution_count": null,
   "id": "faadae99",
   "metadata": {},
   "outputs": [],
   "source": []
  }
 ],
 "metadata": {
  "kernelspec": {
   "display_name": "raman",
   "language": "python",
   "name": "python3"
  },
  "language_info": {
   "codemirror_mode": {
    "name": "ipython",
    "version": 3
   },
   "file_extension": ".py",
   "mimetype": "text/x-python",
   "name": "python",
   "nbconvert_exporter": "python",
   "pygments_lexer": "ipython3",
   "version": "3.11.13"
  }
 },
 "nbformat": 4,
 "nbformat_minor": 5
}

{
 "cells": [
  {
   "cell_type": "code",
   "execution_count": 1,
   "id": "36c23c4c",
   "metadata": {},
   "outputs": [],
   "source": [
    "import math\n",
    "from itertools import product\n",
    "from pathlib import Path\n",
    "import ee\n",
    "import pandas as pd\n",
    "import ast\n",
    "\n",
    "ee.Authenticate()\n",
    "ee.Initialize(project='raman-461708')\n",
    "\n",
    "\"\"\"\n",
    "    Helper functions to Download High Resolution Images\n",
    "\"\"\"\n",
    "# Function to convert latitude to pixel Y at a given zoom level\n",
    "def lat_to_pixel_y(lat, zoom):\n",
    "    sin_lat = math.sin(math.radians(lat))\n",
    "    pixel_y = ((0.5 - math.log((1 + sin_lat) / (1 - sin_lat)) / (4 * math.pi)) * (2 ** (zoom + 8)))\n",
    "    return pixel_y\n",
    "\n",
    "# Function to convert longitude to pixel X at a given zoom level\n",
    "def lon_to_pixel_x(lon, zoom):\n",
    "    pixel_x = ((lon + 180) / 360) * (2 ** (zoom + 8))\n",
    "    return pixel_x\n",
    "\n",
    "# Function to convert pixel X to longitude\n",
    "def pixel_x_to_lon(pixel_x, zoom):\n",
    "    lon = (pixel_x / (2 ** (zoom + 8))) * 360 - 180\n",
    "    return lon\n",
    "\n",
    "# Function to convert pixel Y to latitude\n",
    "def pixel_y_to_lat(pixel_y, zoom):\n",
    "    n = math.pi - 2 * math.pi * pixel_y / (2 ** (zoom + 8))\n",
    "    lat = math.degrees(math.atan(math.sinh(n)))\n",
    "    return lat\n",
    "\n",
    "def lat_lon_from_pixel(lat, lon, zoom, scale):\n",
    "    \"\"\"\n",
    "    Given a starting latitude and longitude, calculate the latitude and longitude\n",
    "    of the opposite corner of a 256x256 image at a given zoom level.\n",
    "    \"\"\"\n",
    "    pixel_x = lon_to_pixel_x(lon, zoom)\n",
    "    pixel_y = lat_to_pixel_y(lat, zoom)\n",
    "    \n",
    "    new_lon = pixel_x_to_lon(pixel_x + 256*scale, zoom)\n",
    "    new_lat = pixel_y_to_lat(pixel_y + 256*scale, zoom)\n",
    "\n",
    "    return new_lat, new_lon\n",
    "\n",
    "\"\"\"\n",
    "\n",
    "Helper function for dividing an roi into blocks\n",
    "\n",
    "\"\"\"\n",
    "\n",
    "def get_n_boxes(lat, lon, n, zoom, scale):\n",
    "    diagonal_lat_lon = [(lat, lon),]\n",
    "    for i in range(n):\n",
    "        new_lat_lon = lat_lon_from_pixel(lat, lon, zoom, scale)\n",
    "        diagonal_lat_lon.append(new_lat_lon)\n",
    "        lat, lon = new_lat_lon\n",
    "    lats = [i[0] for i in diagonal_lat_lon]\n",
    "    longs = [i[1] for i in diagonal_lat_lon]\n",
    "    first_points = list(product(lats, longs))\n",
    "    boxes = []\n",
    "    for point in first_points:\n",
    "        lat, lon = point\n",
    "        new_lat, new_lon = lat_lon_from_pixel(lat, lon, zoom, scale)\n",
    "        boxes.append([(lat, lon), (lat, new_lon), (new_lat, new_lon), (new_lat, lon)])\n",
    "    return boxes\n",
    "\n",
    "def latlon_to_tile_xy(lat, lon, zoom):\n",
    "    \"\"\"Converts lat/lon to tile x/y at given zoom level\"\"\"\n",
    "    lat_rad = math.radians(lat)\n",
    "    n = 2.0 ** zoom\n",
    "    tile_x = int((lon + 180.0) / 360.0 * n)\n",
    "    tile_y = int((1.0 - math.log(math.tan(lat_rad) + 1 / math.cos(lat_rad)) / math.pi) / 2.0 * n)\n",
    "    return tile_x, tile_y\n",
    "\n",
    "def tile_xy_to_latlon(tile_x, tile_y, zoom):\n",
    "    \"\"\"Converts top-left corner of tile x/y at given zoom level to lat/lon\"\"\"\n",
    "    n = 2.0 ** zoom\n",
    "    lon_deg = tile_x / n * 360.0 - 180.0\n",
    "    lat_rad = math.atan(math.sinh(math.pi * (1 - 2 * tile_y / n)))\n",
    "    lat_deg = math.degrees(lat_rad)\n",
    "    return lat_deg, lon_deg\n",
    "\n",
    "def get_csv(points):\n",
    "    first_points = [i[0] for i in points]\n",
    "    all_points = []\n",
    "    for index, point in enumerate(first_points):\n",
    "        four_first_point = get_n_boxes(point[0], point[1], 1, 17, 16)\n",
    "        four_first_point = [(i[0], i[2]) for i in four_first_point]\n",
    "        for top_left, bottom_right in four_first_point:\n",
    "            all_points.append((index, (top_left,bottom_right)))\n",
    "    return all_points\n",
    "\n",
    "def get_points(roi):\n",
    "    zoom = 17\n",
    "    scale = 32\n",
    "    bounds = roi.bounds().coordinates().get(0).getInfo()\n",
    "    lons = sorted([i[0] for i in bounds])\n",
    "    lats = sorted([i[1] for i in bounds])\n",
    "    \n",
    "    tile_x, tile_y = latlon_to_tile_xy(lats[-1], lons[0], zoom)\n",
    "    top_left_lat, top_left_lon = tile_xy_to_latlon(tile_x, tile_y, zoom)\n",
    "    \n",
    "    starting_point = top_left_lat, top_left_lon\n",
    "    min_, max_ = (\n",
    "        [lon_to_pixel_x(top_left_lon, zoom), lat_to_pixel_y(lats[0], zoom) ],\n",
    "        [lon_to_pixel_x(lons[-1], zoom), lat_to_pixel_y(top_left_lat, zoom)]\n",
    "        )\n",
    "    iterations = math.ceil(max(abs(min_[0] -  max_[0]), abs(min_[1] - max_[1]))/256/scale)\n",
    "    points = get_n_boxes(starting_point[0], starting_point[1], iterations, zoom, scale)\n",
    "    csv_points = get_csv(points)\n",
    "    return points, csv_points"
   ]
  },
  {
   "cell_type": "code",
   "execution_count": 2,
   "id": "a8424bb3",
   "metadata": {},
   "outputs": [],
   "source": [
    "roi = ee.FeatureCollection(\"users/mtpictd/agro_eco_regions\").filter(ee.Filter.eq(\"ae_regcode\", 7))\n",
    "#roi = ee.FeatureCollection(\"projects/raman-461708/assets/filtered_grids_1\").limit(1)\n",
    "squares, csv_points = get_points(roi)"
   ]
  },
  {
   "cell_type": "code",
   "execution_count": 3,
   "id": "5fc97a71",
   "metadata": {},
   "outputs": [],
   "source": [
    "df = pd.DataFrame(csv_points, columns=[\"index\", \"points\"])\n",
    "df.to_csv(\"points.csv\", index=False)"
   ]
  },
  {
   "cell_type": "code",
   "execution_count": 9,
   "id": "c0a1a1ea",
   "metadata": {},
   "outputs": [
    {
     "data": {
      "text/plain": [
       "9"
      ]
     },
     "execution_count": 9,
     "metadata": {},
     "output_type": "execute_result"
    }
   ],
   "source": [
    "len(squares)"
   ]
  },
  {
   "cell_type": "code",
   "execution_count": 10,
   "id": "8032ae3b",
   "metadata": {},
   "outputs": [
    {
     "data": {
      "text/plain": [
       "{'type': 'FeatureCollection',\n",
       " 'columns': {'grid_id': 'Integer', 'system:index': 'String'},\n",
       " 'version': 1753620561931510.0,\n",
       " 'id': 'projects/raman-461708/assets/filtered_grids_1',\n",
       " 'properties': {'system:asset_size': 14646},\n",
       " 'features': [{'type': 'Feature',\n",
       "   'geometry': {'type': 'Polygon',\n",
       "    'coordinates': [[[78.81866457168141, 18.906286538114937],\n",
       "      [78.90655516333197, 18.906286521502466],\n",
       "      [78.90655516333197, 18.989414745963032],\n",
       "      [78.81866457168141, 18.989414682748105],\n",
       "      [78.81866457168141, 18.906286538114937]]]},\n",
       "   'id': '00000000000000000000',\n",
       "   'properties': {'grid_id': 86}}]}"
      ]
     },
     "execution_count": 10,
     "metadata": {},
     "output_type": "execute_result"
    }
   ],
   "source": [
    "roi.getInfo()"
   ]
  },
  {
   "cell_type": "code",
   "execution_count": 23,
   "id": "7573ca77",
   "metadata": {},
   "outputs": [],
   "source": [
    "features = []\n",
    "for i, square in enumerate(squares):\n",
    "    coords = [[lon, lat] for lat, lon in square]  # Convert to [lon, lat]\n",
    "    #coords.append(coords[0])  # Close the polygon\n",
    "    polygon = ee.Geometry.Polygon([coords])\n",
    "    feature = ee.Feature(polygon, {'grid_id': i})\n",
    "    features.append(feature)\n",
    "\n",
    "# Create FeatureCollection\n",
    "fc = ee.FeatureCollection(features)"
   ]
  },
  {
   "cell_type": "code",
   "execution_count": 24,
   "id": "fc32c757",
   "metadata": {},
   "outputs": [
    {
     "data": {
      "text/plain": [
       "1984"
      ]
     },
     "execution_count": 24,
     "metadata": {},
     "output_type": "execute_result"
    }
   ],
   "source": [
    "fc.filterBounds(roi).size().getInfo()"
   ]
  },
  {
   "cell_type": "code",
   "execution_count": 25,
   "id": "6b673c1f",
   "metadata": {},
   "outputs": [],
   "source": [
    "task = ee.batch.Export.table.toAsset(\n",
    "    collection=fc.filterBounds(roi),\n",
    "    description='exportToTableAssetExample',\n",
    "    assetId='projects/raman-461708/assets/telangana_aez',\n",
    ")\n",
    "task.start()"
   ]
  },
  {
   "cell_type": "code",
   "execution_count": 6,
   "id": "d9244d46",
   "metadata": {},
   "outputs": [
    {
     "data": {
      "text/plain": [
       "1984"
      ]
     },
     "execution_count": 6,
     "metadata": {},
     "output_type": "execute_result"
    }
   ],
   "source": [
    "fc.filterBounds(roi).size().getInfo()"
   ]
  },
  {
   "cell_type": "code",
   "execution_count": null,
   "id": "1a3fe8c4",
   "metadata": {},
   "outputs": [],
   "source": []
  }
 ],
 "metadata": {
  "kernelspec": {
   "display_name": "seggpu",
   "language": "python",
   "name": "python3"
  },
  "language_info": {
   "codemirror_mode": {
    "name": "ipython",
    "version": 3
   },
   "file_extension": ".py",
   "mimetype": "text/x-python",
   "name": "python",
   "nbconvert_exporter": "python",
   "pygments_lexer": "ipython3",
   "version": "3.10.14"
  }
 },
 "nbformat": 4,
 "nbformat_minor": 5
}
